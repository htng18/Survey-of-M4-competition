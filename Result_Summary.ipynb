{
 "cells": [
  {
   "cell_type": "markdown",
   "id": "3c951097",
   "metadata": {},
   "source": [
    "# Performance of time-series perdictions of M4 competition"
   ]
  },
  {
   "cell_type": "markdown",
   "id": "6271323a",
   "metadata": {},
   "source": [
    "In M4 competition, there are 100000 time-series. The data is grouped into the different periods (\"Hourly\", \"Daily\", \"Weekly\", \"Monthly\", \"Quarterly\", \"Yearly\").\n",
    "It is required to forcast from 6 steps to 48 steps. The dataset can be found in the following link:\n",
    "https://github.com/Mcompetitions/M4-methods/tree/master/Dataset\n",
    "\n",
    "We perform the time-series forecasting using the transformer model with the standard approach.\n",
    "<li> The features are generated from a univariate time-series (e.g. taking lags, taking square and cubic, etc.)\n",
    "<li> We keep 20 features with the highest correlation with the original time-series.\n",
    "<li> Due to the limited resource, we fix the model parameters without hyperparameter tuning.\n",
    "\n",
    "From our result, the best performance is to predict the hourly time-series. The simulation time is long due to using the deep leanring model. The performance may be increased by using a more complex model and with the appropriate hyperparameter tuning. We also provide the other types of deep learning models(CNN1D, CNN2D, LSTM, Bidirectional-LSTM, CNN1D-LSTM and CNN1D-BiLSTM).\n",
    "We did some preliminary studies on the dataset using those models. However, it would take long time to complete all the simulations. From the preliminary study, we found that the transformer model outperforms the other deep learning models on time-series forecasting for M4 dataset."
   ]
  },
  {
   "cell_type": "code",
   "execution_count": 1,
   "id": "6afcf3c8",
   "metadata": {},
   "outputs": [],
   "source": [
    "import pandas as pd\n",
    "import numpy as np\n",
    "import os"
   ]
  },
  {
   "cell_type": "code",
   "execution_count": 2,
   "id": "0c89e699",
   "metadata": {},
   "outputs": [],
   "source": [
    "data_dict = {}\n",
    "period_list = [\"Hourly\", \"Daily\", \"Weekly\", \"Monthly\", \"Quarterly\", \"Yearly\"]\n",
    "\n",
    "for period in period_list:\n",
    "    train = pd.read_csv(\"Dataset/Train/{}-train.csv\".format(period), index_col=0).T\n",
    "    test = pd.read_csv(\"Dataset/Test/{}-test.csv\".format(period), index_col=0).T\n",
    "    column = train.columns\n",
    "    train_length = []\n",
    "    test_length = []\n",
    "    for i in column:\n",
    "        train_length.append(len(train[i].dropna()))\n",
    "        test_length.append(len(test[i].dropna()))\n",
    "    data_dict[period] = [len(column), max(train_length), round(np.mean(train_length),2), min(train_length), max(test_length)]\n",
    "    \n",
    "data_df = pd.DataFrame().from_dict(data_dict).astype(int)\n",
    "data_df.index = [\"Number of time-series\", \"Max. number of train data\", \"Mean number of train data\",\n",
    "                \"Min. number of test data\", \"Number of test data\"]"
   ]
  },
  {
   "cell_type": "code",
   "execution_count": 3,
   "id": "dd2705fc",
   "metadata": {},
   "outputs": [],
   "source": [
    "def data_combine(period, folder):\n",
    "    data = pd.DataFrame()\n",
    "    filelist = os.listdir(folder)\n",
    "    for i in filelist:\n",
    "        if period in i:\n",
    "            path = os.path.join(folder,i)\n",
    "            data = pd.read_csv(path, index_col=0)\n",
    "    return data"
   ]
  },
  {
   "cell_type": "code",
   "execution_count": 7,
   "id": "b4e8b6b7",
   "metadata": {},
   "outputs": [],
   "source": [
    "result_dict = {}\n",
    "result_df = pd.DataFrame()\n",
    "overall = pd.DataFrame()\n",
    "for period in period_list:\n",
    "    result_dict[period] = data_combine(period, \"result\")\n",
    "    overall = pd.concat([overall, result_dict[period]], axis=0)\n",
    "    result_df[period] = result_dict[period].mean().round(2)\n",
    "result_df[\"Overall\"] = overall.mean().round(2)"
   ]
  },
  {
   "cell_type": "markdown",
   "id": "0f722bfd",
   "metadata": {},
   "source": [
    "# Data "
   ]
  },
  {
   "cell_type": "markdown",
   "id": "76f2023a",
   "metadata": {},
   "source": [
    "We outline the number of time-series in each period and the numbers of data in train and test data, respectively."
   ]
  },
  {
   "cell_type": "code",
   "execution_count": 4,
   "id": "9c02aaf8",
   "metadata": {},
   "outputs": [
    {
     "data": {
      "text/html": [
       "<div>\n",
       "<style scoped>\n",
       "    .dataframe tbody tr th:only-of-type {\n",
       "        vertical-align: middle;\n",
       "    }\n",
       "\n",
       "    .dataframe tbody tr th {\n",
       "        vertical-align: top;\n",
       "    }\n",
       "\n",
       "    .dataframe thead th {\n",
       "        text-align: right;\n",
       "    }\n",
       "</style>\n",
       "<table border=\"1\" class=\"dataframe\">\n",
       "  <thead>\n",
       "    <tr style=\"text-align: right;\">\n",
       "      <th></th>\n",
       "      <th>Hourly</th>\n",
       "      <th>Daily</th>\n",
       "      <th>Weekly</th>\n",
       "      <th>Monthly</th>\n",
       "      <th>Quarterly</th>\n",
       "      <th>Yearly</th>\n",
       "    </tr>\n",
       "  </thead>\n",
       "  <tbody>\n",
       "    <tr>\n",
       "      <th>Number of time-series</th>\n",
       "      <td>414</td>\n",
       "      <td>4227</td>\n",
       "      <td>359</td>\n",
       "      <td>48000</td>\n",
       "      <td>24000</td>\n",
       "      <td>23000</td>\n",
       "    </tr>\n",
       "    <tr>\n",
       "      <th>Max. number of train data</th>\n",
       "      <td>960</td>\n",
       "      <td>9919</td>\n",
       "      <td>2597</td>\n",
       "      <td>2794</td>\n",
       "      <td>866</td>\n",
       "      <td>835</td>\n",
       "    </tr>\n",
       "    <tr>\n",
       "      <th>Mean number of train data</th>\n",
       "      <td>853</td>\n",
       "      <td>2357</td>\n",
       "      <td>1022</td>\n",
       "      <td>216</td>\n",
       "      <td>92</td>\n",
       "      <td>31</td>\n",
       "    </tr>\n",
       "    <tr>\n",
       "      <th>Min. number of test data</th>\n",
       "      <td>700</td>\n",
       "      <td>93</td>\n",
       "      <td>80</td>\n",
       "      <td>42</td>\n",
       "      <td>16</td>\n",
       "      <td>13</td>\n",
       "    </tr>\n",
       "    <tr>\n",
       "      <th>Number of test data</th>\n",
       "      <td>48</td>\n",
       "      <td>14</td>\n",
       "      <td>13</td>\n",
       "      <td>18</td>\n",
       "      <td>8</td>\n",
       "      <td>6</td>\n",
       "    </tr>\n",
       "  </tbody>\n",
       "</table>\n",
       "</div>"
      ],
      "text/plain": [
       "                           Hourly  Daily  Weekly  Monthly  Quarterly  Yearly\n",
       "Number of time-series         414   4227     359    48000      24000   23000\n",
       "Max. number of train data     960   9919    2597     2794        866     835\n",
       "Mean number of train data     853   2357    1022      216         92      31\n",
       "Min. number of test data      700     93      80       42         16      13\n",
       "Number of test data            48     14      13       18          8       6"
      ]
     },
     "execution_count": 4,
     "metadata": {},
     "output_type": "execute_result"
    }
   ],
   "source": [
    "data_df"
   ]
  },
  {
   "cell_type": "markdown",
   "id": "37bca2c3",
   "metadata": {},
   "source": [
    "# Prediction result"
   ]
  },
  {
   "cell_type": "markdown",
   "id": "b6c3715c",
   "metadata": {},
   "source": [
    "We adopt the metrics, SMAPE, MASE, OWA, MAE and RMSE to measure the performance of the predictions of each time-series. We take the average of each metrics as follows:"
   ]
  },
  {
   "cell_type": "code",
   "execution_count": 8,
   "id": "da8743ba",
   "metadata": {},
   "outputs": [
    {
     "data": {
      "text/html": [
       "<div>\n",
       "<style scoped>\n",
       "    .dataframe tbody tr th:only-of-type {\n",
       "        vertical-align: middle;\n",
       "    }\n",
       "\n",
       "    .dataframe tbody tr th {\n",
       "        vertical-align: top;\n",
       "    }\n",
       "\n",
       "    .dataframe thead th {\n",
       "        text-align: right;\n",
       "    }\n",
       "</style>\n",
       "<table border=\"1\" class=\"dataframe\">\n",
       "  <thead>\n",
       "    <tr style=\"text-align: right;\">\n",
       "      <th></th>\n",
       "      <th>Hourly</th>\n",
       "      <th>Daily</th>\n",
       "      <th>Weekly</th>\n",
       "      <th>Monthly</th>\n",
       "      <th>Quarterly</th>\n",
       "      <th>Yearly</th>\n",
       "      <th>Overall</th>\n",
       "    </tr>\n",
       "  </thead>\n",
       "  <tbody>\n",
       "    <tr>\n",
       "      <th>SMAPE</th>\n",
       "      <td>12.40</td>\n",
       "      <td>13.64</td>\n",
       "      <td>27.76</td>\n",
       "      <td>30.09</td>\n",
       "      <td>40.04</td>\n",
       "      <td>53.81</td>\n",
       "      <td>37.16</td>\n",
       "    </tr>\n",
       "    <tr>\n",
       "      <th>MASE</th>\n",
       "      <td>2.10</td>\n",
       "      <td>15.71</td>\n",
       "      <td>20.61</td>\n",
       "      <td>3.49</td>\n",
       "      <td>6.30</td>\n",
       "      <td>13.01</td>\n",
       "      <td>6.93</td>\n",
       "    </tr>\n",
       "    <tr>\n",
       "      <th>OWA</th>\n",
       "      <td>0.68</td>\n",
       "      <td>11.57</td>\n",
       "      <td>15.47</td>\n",
       "      <td>8.74</td>\n",
       "      <td>9.44</td>\n",
       "      <td>6.29</td>\n",
       "      <td>8.45</td>\n",
       "    </tr>\n",
       "    <tr>\n",
       "      <th>MAE</th>\n",
       "      <td>548.81</td>\n",
       "      <td>822.69</td>\n",
       "      <td>1378.08</td>\n",
       "      <td>1404.28</td>\n",
       "      <td>2193.40</td>\n",
       "      <td>2841.42</td>\n",
       "      <td>1895.99</td>\n",
       "    </tr>\n",
       "    <tr>\n",
       "      <th>RMSE</th>\n",
       "      <td>611.40</td>\n",
       "      <td>840.56</td>\n",
       "      <td>1428.40</td>\n",
       "      <td>1510.82</td>\n",
       "      <td>2270.64</td>\n",
       "      <td>2928.27</td>\n",
       "      <td>1986.84</td>\n",
       "    </tr>\n",
       "  </tbody>\n",
       "</table>\n",
       "</div>"
      ],
      "text/plain": [
       "       Hourly   Daily   Weekly  Monthly  Quarterly   Yearly  Overall\n",
       "SMAPE   12.40   13.64    27.76    30.09      40.04    53.81    37.16\n",
       "MASE     2.10   15.71    20.61     3.49       6.30    13.01     6.93\n",
       "OWA      0.68   11.57    15.47     8.74       9.44     6.29     8.45\n",
       "MAE    548.81  822.69  1378.08  1404.28    2193.40  2841.42  1895.99\n",
       "RMSE   611.40  840.56  1428.40  1510.82    2270.64  2928.27  1986.84"
      ]
     },
     "execution_count": 8,
     "metadata": {},
     "output_type": "execute_result"
    }
   ],
   "source": [
    "result_df"
   ]
  },
  {
   "cell_type": "code",
   "execution_count": null,
   "id": "ac4916a7",
   "metadata": {},
   "outputs": [],
   "source": []
  }
 ],
 "metadata": {
  "kernelspec": {
   "display_name": "Python 3 (ipykernel)",
   "language": "python",
   "name": "python3"
  },
  "language_info": {
   "codemirror_mode": {
    "name": "ipython",
    "version": 3
   },
   "file_extension": ".py",
   "mimetype": "text/x-python",
   "name": "python",
   "nbconvert_exporter": "python",
   "pygments_lexer": "ipython3",
   "version": "3.9.7"
  }
 },
 "nbformat": 4,
 "nbformat_minor": 5
}
